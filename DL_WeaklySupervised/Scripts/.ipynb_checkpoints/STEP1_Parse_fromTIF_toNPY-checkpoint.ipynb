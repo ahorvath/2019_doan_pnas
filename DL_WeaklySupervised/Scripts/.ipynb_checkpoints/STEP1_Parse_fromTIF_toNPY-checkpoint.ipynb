{
 "cells": [
  {
   "cell_type": "markdown",
   "metadata": {},
   "source": [
    "# ------------- User's settings -------------\n",
    "This is the only section you need to make inputs"
   ]
  },
  {
   "cell_type": "code",
   "execution_count": 1,
   "metadata": {},
   "outputs": [],
   "source": [
    "src = \"../Data/Step1/Input/\"\n",
    "\n",
    "dest = \"../Data/Step1/Output/\""
   ]
  },
  {
   "cell_type": "code",
   "execution_count": 2,
   "metadata": {},
   "outputs": [],
   "source": [
    "channels = [0,2,3]\n",
    "\n",
    "image_size = 48"
   ]
  },
  {
   "cell_type": "code",
   "execution_count": 3,
   "metadata": {},
   "outputs": [],
   "source": [
    "import sys\n",
    "\n",
    "# If using Conda, specifying the path for Python site-packages might be needed\n",
    "# sys.path.insert(0, '/home/user/.conda/envs/env_names/lib/python3.6/site-packages')"
   ]
  },
  {
   "cell_type": "markdown",
   "metadata": {},
   "source": [
    "# ------------- Executable -------------\n",
    "Execute the rest of the script"
   ]
  },
  {
   "cell_type": "code",
   "execution_count": 4,
   "metadata": {},
   "outputs": [],
   "source": [
    "%matplotlib inline\n",
    "\n",
    "import glob\n",
    "import re\n",
    "import os.path\n",
    "import numpy\n",
    "import skimage.io\n",
    "import deepometry.parse\n",
    "from os.path import dirname as up\n",
    "import bioformats\n",
    "import javabridge\n",
    "javabridge.start_vm(class_path=bioformats.JARS, max_heap_size=\"8G\")"
   ]
  },
  {
   "cell_type": "code",
   "execution_count": 5,
   "metadata": {},
   "outputs": [
    {
     "name": "stdout",
     "output_type": "stream",
     "text": [
      "There are  9  files\n"
     ]
    }
   ],
   "source": [
    "filelist = [f for f in glob.glob(os.path.join(src,'**/*.cif'), recursive=True)]\n",
    "\n",
    "print('There are ',len(filelist),' files')"
   ]
  },
  {
   "cell_type": "code",
   "execution_count": 6,
   "metadata": {},
   "outputs": [],
   "source": [
    "bags = list(set([os.path.basename(up(up(up(f)))) for f in filelist] ))\n",
    "dates = list(set([os.path.basename(up(up(f))) for f in filelist] ))"
   ]
  },
  {
   "cell_type": "code",
   "execution_count": null,
   "metadata": {
    "scrolled": false
   },
   "outputs": [],
   "source": [
    "for b in bags[:1]:\n",
    "    for d in dates:\n",
    "\n",
    "        dest_dir = os.path.join(dest, b, d, 'Unannotated')\n",
    "        if not os.path.exists(dest_dir):\n",
    "            os.makedirs(dest_dir)\n",
    "\n",
    "        pathnames = [k for k in filelist if ((b in k) and (d in k))]\n",
    "\n",
    "        deepometry.parse.parse(pathnames, dest_dir, image_size, meta=b , label='Unannotated', channels=channels)\n",
    "\n",
    "print('Done')"
   ]
  },
  {
   "cell_type": "markdown",
   "metadata": {},
   "source": [
    "If you need to delete the folder of many files, do this in terminal\n",
    "\n",
    "- mkdir empty_dir\n",
    "    \n",
    "- rsync -a --delete empty_dir/    yourdirectory/"
   ]
  }
 ],
 "metadata": {
  "kernelspec": {
   "display_name": "Python 3",
   "language": "python",
   "name": "python3"
  },
  "language_info": {
   "codemirror_mode": {
    "name": "ipython",
    "version": 3
   },
   "file_extension": ".py",
   "mimetype": "text/x-python",
   "name": "python",
   "nbconvert_exporter": "python",
   "pygments_lexer": "ipython3",
   "version": "3.6.8"
  }
 },
 "nbformat": 4,
 "nbformat_minor": 1
}
