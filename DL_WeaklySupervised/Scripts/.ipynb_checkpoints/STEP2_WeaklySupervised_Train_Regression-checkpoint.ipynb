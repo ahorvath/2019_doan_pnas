{
 "cells": [
  {
   "cell_type": "markdown",
   "metadata": {},
   "source": [
    "# ------------- User's settings -------------\n",
    "This is the only section you need to make inputs"
   ]
  },
  {
   "cell_type": "code",
   "execution_count": 1,
   "metadata": {},
   "outputs": [],
   "source": [
    "# Output from Step1 is needed as input here\n",
    "input_directory = '../Data/Step1/Output/'\n",
    "\n",
    "# Output location for this step\n",
    "output_directory = '../Data/Step2/Output/'\n",
    "\n",
    "# Define labels of the classes\n",
    "labels = ['Unannotated']\n",
    "\n",
    "# Define other metadata\n",
    "day_of_exp = [str('D'+str(i)) for i in list(range(1,100))] \n",
    "\n",
    "# If using Conda, specifying the path for Python site-packages might be needed\n",
    "import sys\n",
    "# sys.path.insert(0, '/home/user/.conda/envs/env_names/lib/python3.6/site-packages')"
   ]
  },
  {
   "cell_type": "markdown",
   "metadata": {},
   "source": [
    "# ------------- Executable -------------\n",
    "Execute the rest of the script\n",
    "\n",
    "Beware: it may take very long, read below!"
   ]
  },
  {
   "cell_type": "code",
   "execution_count": 2,
   "metadata": {},
   "outputs": [
    {
     "name": "stderr",
     "output_type": "stream",
     "text": [
      "Using TensorFlow backend.\n"
     ]
    }
   ],
   "source": [
    "%matplotlib inline\n",
    "\n",
    "import glob\n",
    "import os\n",
    "import skimage.io\n",
    "import keras\n",
    "import matplotlib.pyplot\n",
    "import numpy\n",
    "import pandas\n",
    "import pkg_resources\n",
    "import tensorflow\n",
    "import deepometry.model_regression as deepometry_model\n",
    "import deepometry.utils\n",
    "import itertools\n",
    "import re\n",
    "from collections import Counter\n",
    "\n",
    "# Choose GPU to run training session\n",
    "configuration = tensorflow.ConfigProto()\n",
    "configuration.gpu_options.visible_device_list = \"1\"\n",
    "\n",
    "def collect_pathnames(directories):\n",
    "\n",
    "    pathnames = []\n",
    "\n",
    "    for directory in directories:\n",
    "        subdirectories = sorted(glob.glob(os.path.join(directory, \"*\")))\n",
    "        \n",
    "        filelist = [glob.glob(\"{}/*\".format(subdirectory)) for subdirectory in subdirectories ]    \n",
    "\n",
    "        pathnames += [list(numpy.random.permutation(pathnames))[:13000] for pathnames in filelist]\n",
    "\n",
    "    pathnames = sum(pathnames, [])\n",
    "\n",
    "    return pathnames\n",
    "\n",
    "\n",
    "def load(pathnames, dates):\n",
    "  \n",
    "    x = numpy.empty((len(pathnames),) + _shape(pathnames[0]), dtype=numpy.uint8)\n",
    "    \n",
    "    z = numpy.empty((len(pathnames),), dtype=numpy.uint8)\n",
    "      \n",
    "    day_to_index = {day: index for index, day in enumerate(day_of_exp)}    \n",
    "\n",
    "    for index, pathname in enumerate(pathnames):\n",
    "        if os.path.isfile(pathname) == True:\n",
    "\n",
    "            day = re.search('.*_[A-Za-z0-9]*_([DdWw][0-9]{1,2})_.*__', os.path.basename(pathname)).group(1)\n",
    "\n",
    "            x[index] = numpy.load(pathname)\n",
    "            \n",
    "            z[index] = day_to_index[day]\n",
    "            \n",
    "    return x, z\n",
    "\n",
    "\n",
    "def _shape(pathname):\n",
    "\n",
    "    return numpy.load(pathname).shape     \n",
    "            "
   ]
  },
  {
   "cell_type": "code",
   "execution_count": 3,
   "metadata": {},
   "outputs": [],
   "source": [
    "pathnames = collect_pathnames(glob.glob(os.path.join(input_directory, \"*/*\")))\n",
    "xx, z = load(pathnames, day_of_exp)"
   ]
  },
  {
   "cell_type": "markdown",
   "metadata": {},
   "source": [
    "Re-order the channel if needed.\n",
    "\n",
    "For example:\n",
    "\n",
    "- When using TIFF input, data may be structured as Brightfield_1 - Darkfield - Brightfield_9\n",
    "- When using CIF input, data may be structured as Brightfield_1 - Brightfield_9 - Darkfield"
   ]
  },
  {
   "cell_type": "code",
   "execution_count": 4,
   "metadata": {
    "scrolled": false
   },
   "outputs": [
    {
     "name": "stdout",
     "output_type": "stream",
     "text": [
      "x:  (5657, 48, 48, 1)\n",
      "z:  Counter({13: 5657})\n"
     ]
    }
   ],
   "source": [
    "# x = numpy.empty((xx.shape[0],48,48,3))\n",
    "# x[:,:,:,0] = xx[:,:,:,0]\n",
    "# x[:,:,:,1] = xx[:,:,:,2]\n",
    "# x[:,:,:,2] = xx[:,:,:,1]\n",
    "# del(xx)\n",
    "#x = numpy.empty((xx.shape[0],48,48,2))\n",
    "#x[:,:,:,0] = xx[:,:,:,2]\n",
    "#x[:,:,:,1] = xx[:,:,:,1]\n",
    "#del(xx)\n",
    "x = numpy.empty((xx.shape[0],48,48,1))\n",
    "x[:,:,:,0] = xx[:,:,:,0]\n",
    "del(xx)\n",
    "\n",
    "print(\"x: \", x.shape)\n",
    "print(\"z: \",Counter(z))"
   ]
  },
  {
   "cell_type": "markdown",
   "metadata": {},
   "source": [
    "------------- Verify loaded images -------------"
   ]
  },
  {
   "cell_type": "code",
   "execution_count": 5,
   "metadata": {},
   "outputs": [
    {
     "name": "stderr",
     "output_type": "stream",
     "text": [
      "/Users/minhdoan/miniconda3/lib/python3.6/site-packages/skimage/io/_plugins/matplotlib_plugin.py:80: UserWarning: Float image out of standard range; displaying image with stretched contrast.\n",
      "  warn(\"Float image out of standard range; displaying \"\n"
     ]
    },
    {
     "data": {
      "text/plain": [
       "<matplotlib.image.AxesImage at 0x1c32a4cbe0>"
      ]
     },
     "execution_count": 5,
     "metadata": {},
     "output_type": "execute_result"
    },
    {
     "data": {
      "image/png": "[encoded data removed]",
      "text/plain": [
       "<Figure size 432x288 with 2 Axes>"
      ]
     },
     "metadata": {
      "needs_background": "light"
     },
     "output_type": "display_data"
    }
   ],
   "source": [
    "skimage.io.imshow(x[0,:,:,0], cmap='gray')"
   ]
  },
  {
   "cell_type": "markdown",
   "metadata": {},
   "source": [
    "------------- Train the neural network -------------\n",
    "\n",
    "Beware: this step may take hours, days, or weeks"
   ]
  },
  {
   "cell_type": "code",
   "execution_count": 6,
   "metadata": {},
   "outputs": [],
   "source": [
    "configuration.gpu_options.allow_growth = True\n",
    "session = tensorflow.Session(config = configuration)\n",
    "# apply session\n",
    "keras.backend.set_session(session)\n",
    "\n",
    "model = deepometry_model.Model(shape=x.shape[1:], units=1)\n",
    "\n",
    "model.compile()"
   ]
  },
  {
   "cell_type": "code",
   "execution_count": null,
   "metadata": {},
   "outputs": [
    {
     "name": "stdout",
     "output_type": "stream",
     "text": [
      "Epoch 1/512\n",
      " 1/35 [..............................] - ETA: 30:30 - loss: 4.0275 - mean_absolute_error: 4.0275"
     ]
    }
   ],
   "source": [
    "model.fit(\n",
    "    x,\n",
    "    z,\n",
    "    balance_train=False,\n",
    "    class_weight=None,\n",
    "    batch_size=128,\n",
    "    epochs=512,\n",
    "    validation_split=0.2,\n",
    "    verbose=1\n",
    ")"
   ]
  },
  {
   "cell_type": "markdown",
   "metadata": {},
   "source": [
    "------------- Save the trained neural network -------------"
   ]
  },
  {
   "cell_type": "code",
   "execution_count": null,
   "metadata": {},
   "outputs": [],
   "source": [
    "if not os.path.exists(output_directory):\n",
    "     os.makedirs(output_directory)\n",
    "    \n",
    "model.model.save( os.path.join(output_directory, 'model.h5') )"
   ]
  }
 ],
 "metadata": {
  "kernelspec": {
   "display_name": "Python 3",
   "language": "python",
   "name": "python3"
  },
  "language_info": {
   "codemirror_mode": {
    "name": "ipython",
    "version": 3
   },
   "file_extension": ".py",
   "mimetype": "text/x-python",
   "name": "python",
   "nbconvert_exporter": "python",
   "pygments_lexer": "ipython3",
   "version": "3.6.8"
  }
 },
 "nbformat": 4,
 "nbformat_minor": 2
}
