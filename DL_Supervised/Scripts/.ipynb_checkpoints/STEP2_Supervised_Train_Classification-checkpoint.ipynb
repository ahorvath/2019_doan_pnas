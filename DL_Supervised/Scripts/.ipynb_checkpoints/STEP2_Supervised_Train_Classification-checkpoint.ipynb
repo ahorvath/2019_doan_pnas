{
 "cells": [
  {
   "cell_type": "markdown",
   "metadata": {},
   "source": [
    "# ------------- User's settings -------------\n",
    "This is the only section you need to make inputs"
   ]
  },
  {
   "cell_type": "code",
   "execution_count": 1,
   "metadata": {},
   "outputs": [],
   "source": [
    "# Output from Step1 is needed as input here\n",
    "input_directory = ['../Data/Step1/Output/']\n",
    "\n",
    "\n",
    "# Output location for this step\n",
    "output_directory = '../Data/Step2/Output/'\n",
    "\n",
    "\n",
    "# Define labels of the classes\n",
    "labels = [\"SmoothDisc\", \n",
    "          \"CrenatedDisc_\", \n",
    "          \"CrenatedDiscoid\", \n",
    "          \"CrenatedSpheroid\", \n",
    "          \"CrenatedSphere\",\n",
    "          \"SmoothSphere\", \n",
    "          \"Side\"\n",
    "         ]\n",
    "\n",
    "\n",
    "# Exclude any object that has metadata :\n",
    "exclusion = ['ce52', 'undecidable']\n",
    "\n",
    "\n",
    "# Define other metadata\n",
    "day_of_exp = [str('D'+str(i)) for i in list(range(1,100))] \n",
    "\n",
    "\n",
    "# If using Conda, specifying the path for Python site-packages might be needed\n",
    "import sys\n",
    "# sys.path.insert(0, '/home/user/.conda/envs/env_names/lib/python3.6/site-packages')"
   ]
  },
  {
   "cell_type": "markdown",
   "metadata": {},
   "source": [
    "# ------------- Executable -------------\n",
    "Execute the rest of the script\n",
    "\n",
    "Beware: it may take very long, read below!"
   ]
  },
  {
   "cell_type": "code",
   "execution_count": 2,
   "metadata": {},
   "outputs": [
    {
     "name": "stderr",
     "output_type": "stream",
     "text": [
      "Using TensorFlow backend.\n"
     ]
    }
   ],
   "source": [
    "import glob\n",
    "import os\n",
    "import keras\n",
    "import matplotlib.pyplot\n",
    "import numpy\n",
    "import pandas\n",
    "import pkg_resources\n",
    "import tensorflow\n",
    "import skimage.io\n",
    "import deepometry.model_classification as deepometry_model\n",
    "import deepometry.utils\n",
    "import itertools\n",
    "import re\n",
    "from collections import Counter\n",
    "\n",
    "# Choose GPU to run training session\n",
    "configuration = tensorflow.ConfigProto()\n",
    "configuration.gpu_options.visible_device_list = \"1\""
   ]
  },
  {
   "cell_type": "code",
   "execution_count": 3,
   "metadata": {},
   "outputs": [],
   "source": [
    "def collect_pathnames(directories, labels):\n",
    "    \"\"\"\n",
    "    :param directories: List of directories to select samples from, e.g. data can be pooled from multiple sources.\n",
    "                        Assumes subdirectories of each directory correspond to class labels.\n",
    "                        Contents of subdirectories are NPY files containing data of that label.\n",
    "    :return: List of pathnames.\n",
    "    \"\"\"\n",
    "    pathnames = []\n",
    "\n",
    "    for directory in directories:\n",
    "        subdirectories = sorted(glob.glob(os.path.join(directory, \"*\")))\n",
    "        \n",
    "        # transform the files of the same label into directory\n",
    "        filelist = [glob.glob(\"{}/*{}*\".format(subdirectory,label)) for label in labels for subdirectory in subdirectories ]\n",
    "        \n",
    "        subdirectory_pathnames = []\n",
    "        for i in range(len(labels)):\n",
    "            a = filelist[i*len(subdirectories):(i+1)*len(subdirectories)]\n",
    "            subdirectory_pathnames.append( list(itertools.chain.from_iterable(a)) )        \n",
    "\n",
    "        nsamples = max([len(pathnames) for pathnames in subdirectory_pathnames])\n",
    "        #nsamples = min([len(pathnames) for pathnames in subdirectory_pathnames])\n",
    "        #nsamples = 250000\n",
    "\n",
    "        pathnames += [list(numpy.random.permutation(pathnames)[:nsamples]) for pathnames in subdirectory_pathnames]\n",
    "\n",
    "    pathnames = sum(pathnames, [])\n",
    "\n",
    "    return pathnames\n",
    "\n",
    "\n",
    "def load(pathnames, labels, dates):\n",
    "\n",
    "    print('Before exclusion: ', len(pathnames))\n",
    "    pathnames_to_exlude = [i for i in pathnames if numpy.load(i).shape[2] > 3]\n",
    "    print('Problematic cells:')\n",
    "    print(pathnames_to_exlude)\n",
    "    pathnames = list(set(pathnames) - set(pathnames_to_exlude))    \n",
    "    pathnames = [x for x in pathnames if numpy.all([not z.lower() in x.lower() for z in exclusion])]          \n",
    "    print('After exclusion: ', len(pathnames))\n",
    "    \n",
    "    x = numpy.empty((len(pathnames),) + _shape(pathnames[0]), dtype=numpy.uint8)\n",
    "\n",
    "    y = numpy.empty((len(pathnames),), dtype=numpy.uint8)\n",
    "    \n",
    "    z = numpy.empty((len(pathnames),), dtype=numpy.uint8)\n",
    "    \n",
    "    b = numpy.empty((len(pathnames),), dtype=numpy.uint8)\n",
    "\n",
    "    label_to_index = {label: index for index, label in enumerate(sorted(labels))}\n",
    "    \n",
    "    day_to_index = {day: index for index, day in enumerate(day_of_exp)}\n",
    "    \n",
    "    bb = list(set([re.search('.*_([A-Za-z0-9]*)_[DdWw][0-9]{1,2}_.*_.*__', os.path.basename(path)).group(1) for path in glob.glob(os.path.join(input_directory[0],'**/*'))]))\n",
    "    bagID_to_b_index = {bag: index for index, bag in enumerate(sorted(bb))}\n",
    "\n",
    "    for index, pathname in enumerate(pathnames):\n",
    "        if os.path.isfile(pathname) == True:\n",
    "\n",
    "            match = re.search('.*_[A-Za-z0-9]*_([DdWw][0-9]{1,2})_.*_.*__', os.path.basename(pathname))\n",
    "            day = str(match.group(1))  \n",
    "            del(match)\n",
    "            \n",
    "            match = re.search('.*_([A-Za-z0-9]*)_[DdWw][0-9]{1,2}_.*_.*__', os.path.basename(pathname))\n",
    "            bagID = str(match.group(1))\n",
    "            \n",
    "            label = os.path.split(os.path.dirname((pathname)))[1]\n",
    "            if label == 'CrenatedDisc':\n",
    "                label = str(label + \"_\")\n",
    "       \n",
    "            #print(pathname)\n",
    "            x[index] = numpy.load(pathname)\n",
    "\n",
    "            y[index] = label_to_index[label]\n",
    "            \n",
    "            z[index] = day_to_index[day]\n",
    "            \n",
    "            b[index] = bagID_to_b_index[bagID]\n",
    "\n",
    "    return x, y, z, b\n",
    "\n",
    "\n",
    "def _shape(pathname):\n",
    "    \"\"\"\n",
    "    Infer the shape of the sample data from a single sample.   \n",
    "    :param pathname: Path to a sample.\n",
    "    :return: Sample dimensions.\n",
    "    \"\"\"\n",
    "    return numpy.load(pathname).shape                \n",
    "\n",
    "\n",
    "def get_class_weights(y):\n",
    "    counter = Counter(y)\n",
    "    majority = max(counter.values())\n",
    "    return  {cls: float(majority/count) for cls, count in counter.items()}"
   ]
  },
  {
   "cell_type": "code",
   "execution_count": 4,
   "metadata": {},
   "outputs": [
    {
     "name": "stdout",
     "output_type": "stream",
     "text": [
      "Before exclusion:  2384\n",
      "Problematic cells:\n",
      "[]\n",
      "After exclusion:  1642\n"
     ]
    }
   ],
   "source": [
    "pathnames = collect_pathnames(input_directory, labels)\n",
    "\n",
    "xx, y, z, b = load(pathnames, labels, day_of_exp)  "
   ]
  },
  {
   "cell_type": "markdown",
   "metadata": {},
   "source": [
    "Re-order the channel if needed.\n",
    "\n",
    "For example:\n",
    "\n",
    "- When using TIFF input, data may be structured as Brightfield_1 - Darkfield - Brightfield_9\n",
    "- When using CIF input, data may be structured as Brightfield_1 - Brightfield_9 - Darkfield"
   ]
  },
  {
   "cell_type": "code",
   "execution_count": 5,
   "metadata": {
    "scrolled": false
   },
   "outputs": [
    {
     "name": "stdout",
     "output_type": "stream",
     "text": [
      "x:  (742, 48, 48, 2)\n",
      "y:  (742,)\n",
      "Counter({1: 112, 4: 112, 2: 108, 5: 108, 0: 104, 3: 101, 6: 97})\n",
      "z:  Counter({48: 742})\n",
      "b:  Counter({1: 742})\n"
     ]
    }
   ],
   "source": [
    "# x = numpy.empty((xx.shape[0],48,48,3))\n",
    "# x[:,:,:,0] = xx[:,:,:,0]\n",
    "# x[:,:,:,1] = xx[:,:,:,2]\n",
    "# x[:,:,:,2] = xx[:,:,:,1]\n",
    "# del(xx)\n",
    "x = numpy.empty((xx.shape[0],48,48,2))\n",
    "x[:,:,:,0] = xx[:,:,:,2]\n",
    "x[:,:,:,1] = xx[:,:,:,1]\n",
    "del(xx)\n",
    "\n",
    "print(\"x: \", x.shape)\n",
    "print(\"y: \", y.shape)\n",
    "print(Counter(y))\n",
    "print(\"z: \",Counter(z))\n",
    "print(\"b: \",Counter(b))"
   ]
  },
  {
   "cell_type": "markdown",
   "metadata": {},
   "source": [
    "------------- Verify loaded images -------------"
   ]
  },
  {
   "cell_type": "code",
   "execution_count": 8,
   "metadata": {},
   "outputs": [
    {
     "name": "stderr",
     "output_type": "stream",
     "text": [
      "/Users/minhdoan/miniconda3/lib/python3.6/site-packages/skimage/io/_plugins/matplotlib_plugin.py:80: UserWarning: Float image out of standard range; displaying image with stretched contrast.\n",
      "  warn(\"Float image out of standard range; displaying \"\n"
     ]
    },
    {
     "data": {
      "text/plain": [
       "<matplotlib.image.AxesImage at 0x1c36b0d710>"
      ]
     },
     "execution_count": 8,
     "metadata": {},
     "output_type": "execute_result"
    },
    {
     "data": {
      "image/png": "[encoded data removed]",
      "text/plain": [
       "<Figure size 432x288 with 2 Axes>"
      ]
     },
     "metadata": {
      "needs_background": "light"
     },
     "output_type": "display_data"
    }
   ],
   "source": [
    "skimage.io.imshow(x[5,:,:,0], cmap='gray')"
   ]
  },
  {
   "cell_type": "markdown",
   "metadata": {},
   "source": [
    "------------- Train the neural network -------------\n",
    "\n",
    "Beware: this step may take hours, days, or weeks"
   ]
  },
  {
   "cell_type": "code",
   "execution_count": 9,
   "metadata": {},
   "outputs": [],
   "source": [
    "class_weight = get_class_weights(y)\n",
    "\n",
    "configuration.gpu_options.allow_growth = True\n",
    "session = tensorflow.Session(config = configuration)\n",
    "# apply session\n",
    "keras.backend.set_session(session)\n",
    "\n",
    "model = deepometry_model.Model(shape=x.shape[1:], units=len(labels))\n",
    "\n",
    "model.compile()"
   ]
  },
  {
   "cell_type": "code",
   "execution_count": null,
   "metadata": {},
   "outputs": [
    {
     "name": "stdout",
     "output_type": "stream",
     "text": [
      "Epoch 1/512\n",
      "1/4 [======>.......................] - ETA: 3:03 - loss: 11.6131 - acc: 0.1406"
     ]
    }
   ],
   "source": [
    "model.fit(\n",
    "    x,\n",
    "    y,\n",
    "    class_weight = class_weight,\n",
    "    batch_size=128,\n",
    "    epochs=512,\n",
    "    validation_split=0.2,\n",
    "    verbose=1\n",
    ")"
   ]
  },
  {
   "cell_type": "markdown",
   "metadata": {},
   "source": [
    "------------- Save the trained neural network -------------"
   ]
  },
  {
   "cell_type": "code",
   "execution_count": null,
   "metadata": {},
   "outputs": [],
   "source": [
    "if not os.path.exists(output_directory):\n",
    "     os.makedirs(output_directory)\n",
    "    \n",
    "model.model.save( os.path.join(output_directory, 'model.h5') )"
   ]
  }
 ],
 "metadata": {
  "kernelspec": {
   "display_name": "Python 3",
   "language": "python",
   "name": "python3"
  },
  "language_info": {
   "codemirror_mode": {
    "name": "ipython",
    "version": 3
   },
   "file_extension": ".py",
   "mimetype": "text/x-python",
   "name": "python",
   "nbconvert_exporter": "python",
   "pygments_lexer": "ipython3",
   "version": "3.6.8"
  }
 },
 "nbformat": 4,
 "nbformat_minor": 2
}
