{
 "cells": [
  {
   "cell_type": "markdown",
   "metadata": {},
   "source": [
    "# ------------- User's settings -------------\n",
    "This is the only section you need to make inputs"
   ]
  },
  {
   "cell_type": "code",
   "execution_count": 1,
   "metadata": {},
   "outputs": [],
   "source": [
    "# Output from Step 2 is needed as input here\n",
    "train_data_CSV = 'Cells.csv'\n",
    "\n",
    "#--- If you have other files to process similarly to train_data ---#\n",
    "test_data_CSV = 'Cells.csv'"
   ]
  },
  {
   "cell_type": "markdown",
   "metadata": {},
   "source": [
    "# ------------- Executable -------------\n",
    "Execute the rest of the script"
   ]
  },
  {
   "cell_type": "markdown",
   "metadata": {},
   "source": [
    "------------- Logistics -------------"
   ]
  },
  {
   "cell_type": "code",
   "execution_count": 2,
   "metadata": {},
   "outputs": [],
   "source": [
    "import os, sys\n",
    "import numpy\n",
    "import pandas\n",
    "\n",
    "from sklearn.ensemble import RandomForestRegressor\n",
    "from sklearn.preprocessing import scale, LabelEncoder\n",
    "from sklearn.feature_selection import VarianceThreshold, SelectFromModel\n",
    "\n",
    "\n",
    "#------------- Custom functions -------------#\n",
    "def variance_threshold_select(df, thresh=0.0, na_replacement=-999):\n",
    "    df1 = df.copy(deep=True) # Make a deep copy of the dataframe\n",
    "    selector = VarianceThreshold(thresh)\n",
    "    selector.fit(df1.fillna(na_replacement)) # Fill NA values as VarianceThreshold cannot deal with those\n",
    "    df2 = df.loc[:,selector.get_support(indices=False)] # Get new dataframe with columns deleted that have NA values\n",
    "    return df2\n",
    "\n",
    "            \n",
    "def save_metadata(file,labels,ImageNumber,x_cords,y_cords):\n",
    "    with open(file, 'w') as f:\n",
    "        f.write('Label\\tImageNumber\\tX_cordinate\\tY_cordinate\\n')\n",
    "        for i in range(len(labels)):\n",
    "            f.write('{}\\t{}\\t{}\\t{}\\n'.format( labels[i], ImageNumber[i], x_cords[i], y_cords[i]))    "
   ]
  },
  {
   "cell_type": "markdown",
   "metadata": {},
   "source": [
    "------------- Data loading and preprocessing -------------"
   ]
  },
  {
   "cell_type": "code",
   "execution_count": 3,
   "metadata": {},
   "outputs": [
    {
     "name": "stdout",
     "output_type": "stream",
     "text": [
      "Original data has shape (rows, columns)              :  (33467, 638)\n",
      "After removing NA rows, data has shape               :  (33467, 629)\n"
     ]
    },
    {
     "name": "stderr",
     "output_type": "stream",
     "text": [
      "/home/paul/anaconda3/lib/python3.6/site-packages/pandas/core/indexing.py:1472: FutureWarning: \n",
      "Passing list-likes to .loc or [] with any missing label will raise\n",
      "KeyError in the future, you can use .reindex() as an alternative.\n",
      "\n",
      "See the documentation here:\n",
      "https://pandas.pydata.org/pandas-docs/stable/indexing.html#deprecate-loc-reindex-listlike\n",
      "  return self._getitem_tuple(key)\n"
     ]
    },
    {
     "name": "stdout",
     "output_type": "stream",
     "text": [
      "After removing zero-variance features, data has shape:  (33467, 625)\n"
     ]
    }
   ],
   "source": [
    "#----- Define unwanted parameters -----#\n",
    "not_wanted = [ \"Number\", \"Location\", \"Center\", \"Metadata\" ]\n",
    "\n",
    "objects = pandas.read_csv(train_data_CSV, header=0)\n",
    "variables_object = [x for x in objects.columns.values if numpy.all([not z in x for z in not_wanted])]\n",
    "\n",
    "objects_train = objects.loc[:,variables_object + ['Metadata_Label'] + ['ImageNumber'] + ['Location_Center_X'] + ['Location_Center_Y']]\n",
    "print('Original data has shape (rows, columns)              : ', objects_train.shape)\n",
    "\n",
    "#----- Remove any row that has NA -----#\n",
    "objects_train = objects_train.dropna(axis = 'columns')\n",
    "print('After removing NA rows, data has shape               : ', objects_train.shape)\n",
    "\n",
    "\n",
    "#----- Create ground-truth label and book-keeping records for each object -----#\n",
    "ground_truth = list(objects_train.Metadata_Label)\n",
    "ImageNumber = list(objects_train.ImageNumber)\n",
    "X_cords = list(objects_train.Location_Center_X)\n",
    "Y_cords = list(objects_train.Location_Center_Y)\n",
    "\n",
    "# Save labels, to be used as \"metadata\" on http://projector.tensorflow.org\n",
    "save_metadata('ground_truth_labels.tsv', ground_truth, ImageNumber, X_cords, Y_cords)\n",
    "\n",
    "\n",
    "#----- Remove all zero-variance features -----#\n",
    "# i.e. features that have the same value in all samples.\n",
    "objects_train = variance_threshold_select(objects_train.loc[:,variables_object])\n",
    "print('After removing zero-variance features, data has shape: ', objects_train.shape)\n",
    "\n",
    "\n",
    "#----- Logistic for training data -----#\n",
    "le = LabelEncoder()\n",
    "le.fit(ground_truth)\n",
    "numeric_labels = le.fit_transform(ground_truth)"
   ]
  },
  {
   "cell_type": "markdown",
   "metadata": {},
   "source": [
    "----- Tree-based feature selection -----\n",
    "\n",
    "When the dataset has two (or more) correlated features, \n",
    "then any of these correlated features can be used as the predictor.\n",
    "For the computer, there's no concrete preference of one over the others. \n",
    "\n",
    "It makes sense to remove features that are mostly duplicated by other features (redundancy)\n",
    "Tree-based feature selection will help us to (randomly) \n",
    "keep only one of them, and remove others.\n",
    "\n",
    "This is not an issue when we want to use feature selection to reduce overfitting.\n",
    "But when interpreting the data, it can lead to the incorrect conclusion that \n",
    "one of the variables is a strong predictor while the others in the same group are unimportant.\n",
    "\n",
    "Read [more](http://blog.datadive.net/selecting-good-features-part-iii-random-forests/)"
   ]
  },
  {
   "cell_type": "code",
   "execution_count": 4,
   "metadata": {},
   "outputs": [
    {
     "name": "stdout",
     "output_type": "stream",
     "text": [
      "After feature selection, data has shape              :  (33467, 187)\n"
     ]
    }
   ],
   "source": [
    "#----- Tree-based feature selection -----#\n",
    "\n",
    "clf = RandomForestRegressor(n_estimators=20, max_features=2)\n",
    "clf = clf.fit(objects_train, numeric_labels)\n",
    "clf.feature_importances_\n",
    "\n",
    "df1 = objects_train.copy(deep=True) # Make a deep copy of the dataframe\n",
    "selector = SelectFromModel(clf, prefit=True)\n",
    "selector.transform(df1)\n",
    "\n",
    "data_train = objects_train.loc[:,selector.get_support(indices=False)] \n",
    "print('After feature selection, data has shape              : ', data_train.shape)\n",
    "\n",
    "# List of all the feature names\n",
    "selected_features_names =list(data_train.columns.values)\n",
    "\n",
    "data_train.to_csv('after_feature_selection_data.csv') \n",
    "\n",
    "#----- To be used as main data on http://projector.tensorflow.org -----#\n",
    "numpy.savetxt( 'after_feature_selection_scaled_data.txt', scale(data_train), delimiter='\\t')"
   ]
  },
  {
   "cell_type": "markdown",
   "metadata": {},
   "source": [
    "------------- Preprocessing testing data accordingly -------------"
   ]
  },
  {
   "cell_type": "code",
   "execution_count": null,
   "metadata": {},
   "outputs": [],
   "source": [
    "#----- Load testing data -----#\n",
    "objects_test = pandas.read_csv(test_data_CSV, header=0)\n",
    "print('Original test data has shape (rows, columns)                      : ', objects_test.shape)\n",
    "\n",
    "#----- Apply feature selection rules learned from training data on test data -----#\n",
    "selected_var_objects_test = objects_test.loc[:,selected_features_names + ['Metadata_Label'] + ['ImageNumber'] + ['Location_Center_X'] + ['Location_Center_Y']]\n",
    "\n",
    "#----- Remove any row that has NA -----#\n",
    "selected_var_objects_test = selected_var_objects_test.dropna()\n",
    "\n",
    "#----- Create labels for test data -----#\n",
    "test_labels = list(selected_var_objects_test.Metadata_Label)\n",
    "test_ImageNumber = list(selected_var_objects_test.ImageNumber)\n",
    "test_X_cords = list(selected_var_objects_test.Location_Center_X)\n",
    "test_Y_cords = list(selected_var_objects_test.Location_Center_Y)\n",
    "\n",
    "\n",
    "# Save labels, to be used as \"metadata\" on http://projector.tensorflow.org\n",
    "save_metadata('test_labels.tsv', test_labels, test_ImageNumber, test_X_cords, test_Y_cords)\n",
    "\n",
    "\n",
    "data_test = selected_var_objects_test.loc[:,selected_features_names]\n",
    "print('After removing NA rows and feature selection, test data has shape : ', data_test.shape)\n",
    "\n",
    "\n",
    "data_test.to_csv( 'after_feature_selection_testdata.csv' )\n",
    "#----- To be used as main data on http://projector.tensorflow.org -----#\n",
    "numpy.savetxt( 'after_feature_selection_scaled_testdata.txt', scale(data_test), delimiter='\\t')"
   ]
  },
  {
   "cell_type": "code",
   "execution_count": null,
   "metadata": {},
   "outputs": [],
   "source": []
  }
 ],
 "metadata": {
  "kernelspec": {
   "display_name": "Python 3",
   "language": "python",
   "name": "python3"
  },
  "language_info": {
   "codemirror_mode": {
    "name": "ipython",
    "version": 3
   },
   "file_extension": ".py",
   "mimetype": "text/x-python",
   "name": "python",
   "nbconvert_exporter": "python",
   "pygments_lexer": "ipython3",
   "version": "3.6.8"
  }
 },
 "nbformat": 4,
 "nbformat_minor": 2
}
