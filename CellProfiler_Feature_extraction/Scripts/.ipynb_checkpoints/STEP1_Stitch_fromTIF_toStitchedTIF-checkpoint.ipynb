{
 "cells": [
  {
   "cell_type": "markdown",
   "metadata": {},
   "source": [
    "# ------------- User's settings -------------\n",
    "This is the only section you need to make inputs"
   ]
  },
  {
   "cell_type": "code",
   "execution_count": null,
   "metadata": {},
   "outputs": [],
   "source": [
    "# Raw data location\n",
    "input_directory = '../Data/Step1/Input/Canadian/'\n",
    "\n",
    "# Output location\n",
    "output_directory = '../Data/Step1/Output/Canadian/'"
   ]
  },
  {
   "cell_type": "code",
   "execution_count": null,
   "metadata": {},
   "outputs": [],
   "source": [
    "channels = [1,9,12]\n",
    "\n",
    "image_size = 48\n",
    "\n",
    "montage_size = 30"
   ]
  },
  {
   "cell_type": "code",
   "execution_count": null,
   "metadata": {},
   "outputs": [],
   "source": [
    "# If using Conda, specifying the path for Python site-packages might be needed\n",
    "import sys\n",
    "# sys.path.insert(0, '/home/user/.conda/envs/env_names/lib/python3.6/site-packages')"
   ]
  },
  {
   "cell_type": "markdown",
   "metadata": {},
   "source": [
    "# ------------- Executable -------------\n",
    "Execute the rest of the script"
   ]
  },
  {
   "cell_type": "code",
   "execution_count": null,
   "metadata": {},
   "outputs": [],
   "source": [
    "import glob\n",
    "import os.path\n",
    "import numpy\n",
    "import skimage.io\n",
    "import deepometry.parse\n",
    "from os.path import dirname as up"
   ]
  },
  {
   "cell_type": "code",
   "execution_count": null,
   "metadata": {},
   "outputs": [],
   "source": [
    "files = sorted(glob.iglob(os.path.join(input_directory, '**', '*.[tT][iI][fF]*'), recursive=True))"
   ]
  },
  {
   "cell_type": "code",
   "execution_count": null,
   "metadata": {},
   "outputs": [],
   "source": [
    "labels = list(set([os.path.basename(up(f)) for f in files]))\n",
    "dates = list(set([os.path.basename(up(up(f))) for f in files]))\n",
    "bags = list(set([os.path.basename(up(up(up(f)))) for f in files]))"
   ]
  },
  {
   "cell_type": "code",
   "execution_count": null,
   "metadata": {
    "scrolled": true
   },
   "outputs": [],
   "source": [
    "for bag in bags:\n",
    "    for date in dates:\n",
    "        for label in labels:\n",
    "            src_dir = os.path.join(input_directory, bag, date, label)\n",
    "            \n",
    "            if os.path.exists(src_dir):\n",
    "                if len(os.listdir(src_dir)) != 0 :\n",
    "                    print(\"Parsing directory: {}\".format(src_dir))\n",
    "\n",
    "                    dest_dir = os.path.join(output_directory, bag, date, label)\n",
    "                    if not os.path.exists(dest_dir):\n",
    "                        os.makedirs(dest_dir)\n",
    "\n",
    "                    pathnames = glob.glob(os.path.join(src_dir, \"*.tif\"))\n",
    "\n",
    "                    deepometry.parse.parse(pathnames, dest_dir, image_size, meta=bag+'_'+date, label=label, channels=channels, stitch=True, montage_size=montage_size)\n",
    "                else:\n",
    "                    print(src_dir, ' is empty')\n",
    "\n",
    "print('Done!')"
   ]
  },
  {
   "cell_type": "markdown",
   "metadata": {},
   "source": [
    "If you need to delete the folder of many files, do this in terminal\n",
    "\n",
    "- mkdir empty_dir\n",
    "    \n",
    "- rsync -a --delete empty_dir/    yourdirectory/"
   ]
  }
 ],
 "metadata": {
  "kernelspec": {
   "display_name": "Python 3",
   "language": "python",
   "name": "python3"
  },
  "language_info": {
   "codemirror_mode": {
    "name": "ipython",
    "version": 3
   },
   "file_extension": ".py",
   "mimetype": "text/x-python",
   "name": "python",
   "nbconvert_exporter": "python",
   "pygments_lexer": "ipython3",
   "version": "3.6.8"
  }
 },
 "nbformat": 4,
 "nbformat_minor": 1
}
